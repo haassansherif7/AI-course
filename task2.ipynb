{
  "nbformat": 4,
  "nbformat_minor": 0,
  "metadata": {
    "colab": {
      "provenance": []
    },
    "kernelspec": {
      "name": "python3",
      "display_name": "Python 3"
    },
    "language_info": {
      "name": "python"
    }
  },
  "cells": [
    {
      "cell_type": "markdown",
      "source": [
        "# WAP to enter a number from user and print its absolute value."
      ],
      "metadata": {
        "id": "faQSXPJy6PvH"
      }
    },
    {
      "cell_type": "code",
      "execution_count": 20,
      "metadata": {
        "colab": {
          "base_uri": "https://localhost:8080/"
        },
        "id": "4gQmz1rW3bcf",
        "outputId": "529a50e8-bb80-4af4-fa8b-30c076288106"
      },
      "outputs": [
        {
          "output_type": "stream",
          "name": "stdout",
          "text": [
            "enter the number: -70\n",
            "the number = -70\n",
            "absolute value = 70\n"
          ]
        }
      ],
      "source": [
        "x=int(input(\"enter the number: \"))\n",
        "print('the number =',x)\n",
        "if x<0:\n",
        "  print('absolute value =',x*(-1))\n",
        "else:\n",
        "  print('the number is absolute value')"
      ]
    },
    {
      "cell_type": "markdown",
      "source": [
        "# WAP to enter a year from user and check if it is leap year or not."
      ],
      "metadata": {
        "id": "X2z91JSG6Y2v"
      }
    },
    {
      "cell_type": "code",
      "source": [
        "x=int(input(\"enter the year: \"))\n",
        "if x%4==0:\n",
        "  print(x,'leap year')\n",
        "else:\n",
        "  print(x,'not a leap year')"
      ],
      "metadata": {
        "colab": {
          "base_uri": "https://localhost:8080/"
        },
        "id": "t1RMtNEV6cAP",
        "outputId": "a67da5c0-5d17-499b-966a-84a92b062062"
      },
      "execution_count": 85,
      "outputs": [
        {
          "output_type": "stream",
          "name": "stdout",
          "text": [
            "enter the year: 2025\n",
            "2025 not a leap year\n"
          ]
        }
      ]
    },
    {
      "cell_type": "markdown",
      "source": [
        "# WAP to enter the age of 3 person and print oldest and yougest among them."
      ],
      "metadata": {
        "id": "CAlC7uZJ65AH"
      }
    },
    {
      "cell_type": "code",
      "source": [
        "x=int(input(\"enter the age of first person: \"))\n",
        "y=int(input(\"enter the age of second person: \"))\n",
        "z=int(input(\"enter the age of third person: \"))\n",
        "print(\"**************************************\")\n",
        "print('the age of first person =',x)\n",
        "print('the age of second person =',y)\n",
        "print('the age of third person =',z)\n",
        "print(\"**************************************\")\n",
        "if x>y and x>z:\n",
        "  print('first person is oldest')\n",
        "elif y>x and y>z:\n",
        "  print('second person is oldest')\n",
        "elif z>x and z>y:\n",
        "  print('third person is oldest')\n",
        "elif x==y and x>z:\n",
        "  print('first and second person are oldest')\n",
        "elif x==z and x>y:\n",
        "  print('first and third person are oldest')\n",
        "elif y==z and y>x:\n",
        "  print('second and third person are oldest')\n",
        "else:\n",
        "  print('all are equal')\n",
        "print(\"**************************************\")\n",
        "if x<y and x<z:\n",
        "  print('first person is youngest')\n",
        "elif y<x and y<z:\n",
        "  print('second person is youngest')\n",
        "elif z<x and z<y:\n",
        "  print('third person is youngest')\n",
        "elif x==y and x<z:\n",
        "  print('first and second person are youngest')\n",
        "elif x==z and x<y:\n",
        "  print('first and third person are youngest')\n",
        "elif y==z and y<x:\n",
        "  print('second and third person are youngest')\n",
        "else:\n",
        "  print('all are equal')\n",
        "print(\"**************************************\")"
      ],
      "metadata": {
        "colab": {
          "base_uri": "https://localhost:8080/"
        },
        "id": "GBcqiSfW67fP",
        "outputId": "08ba91b3-d9c2-4b36-e2ce-b4286c1089cc"
      },
      "execution_count": 46,
      "outputs": [
        {
          "output_type": "stream",
          "name": "stdout",
          "text": [
            "enter the age of first person: 80\n",
            "enter the age of second person: 80\n",
            "enter the age of third person: 80\n",
            "**************************************\n",
            "the age of first person = 80\n",
            "the age of second person = 80\n",
            "the age of third person = 80\n",
            "**************************************\n",
            "all are equal\n",
            "**************************************\n",
            "all are equal\n",
            "**************************************\n"
          ]
        }
      ]
    },
    {
      "cell_type": "markdown",
      "source": [
        "# Write a program that asks the user to enter a series of numbers. The program should ask for numbers until the user enters a negative number. Once the user enters a negative number, the program should stop and print the sum of all the positive numbers entered"
      ],
      "metadata": {
        "id": "4RRwZxbvAaim"
      }
    },
    {
      "cell_type": "code",
      "source": [
        "sum =0\n",
        "for i in range(100000000000000):\n",
        "  x=int(input(\"enter the number: \"))\n",
        "  if x<0:\n",
        "    break\n",
        "  sum=sum+x\n",
        "print(\"The sum of the positive numbers is =\",sum)"
      ],
      "metadata": {
        "colab": {
          "base_uri": "https://localhost:8080/"
        },
        "id": "uA2bzL4hAc2W",
        "outputId": "e848a6c8-63dc-4f1b-97e8-b89d6a7b29ee"
      },
      "execution_count": 67,
      "outputs": [
        {
          "output_type": "stream",
          "name": "stdout",
          "text": [
            "enter the number: 10\n",
            "enter the number: 20\n",
            "enter the number: 30\n",
            "enter the number: 40\n",
            "enter the number: -2\n",
            "The sum of the positive numbers is = 100\n"
          ]
        }
      ]
    },
    {
      "cell_type": "markdown",
      "source": [
        "# Write a program that asks the user to enter their name and age. The program should check if the user's age is greater than or equal to 18. If it is, the program should print a message saying they are eligible to vote. Otherwise, the program should print a message saying they are not eligible to vote due to being underage."
      ],
      "metadata": {
        "id": "mbwdMD7eEN9O"
      }
    },
    {
      "cell_type": "code",
      "source": [
        "z=input(\"enter your name:\")\n",
        "x=int(input(\"enter your age:\"))\n",
        "if x>=18:\n",
        "  print(z ,\"you are eligible to vote\")\n",
        "else:\n",
        "  print(z ,\"you are not eligible to vote\")"
      ],
      "metadata": {
        "colab": {
          "base_uri": "https://localhost:8080/"
        },
        "id": "LvQY_whLEQVx",
        "outputId": "24c2e9c5-394f-46af-ab64-30637d9528bd"
      },
      "execution_count": 69,
      "outputs": [
        {
          "output_type": "stream",
          "name": "stdout",
          "text": [
            "enter your name:yousef\n",
            "enter your age:15\n",
            "yousef you are not eligible to vote\n"
          ]
        }
      ]
    },
    {
      "cell_type": "markdown",
      "source": [
        "# Write a Python Program to Find the Factorial of a Number"
      ],
      "metadata": {
        "id": "fV79_8GyFFJB"
      }
    },
    {
      "cell_type": "code",
      "source": [
        "num = int(input(\"Enter a number: \"))\n",
        "factorial = 1\n",
        "if num < 0:\n",
        "    print(\"error\")\n",
        "elif num == 0 or num == 1:\n",
        "    print(f\"The factorial of {num} is 1\")\n",
        "else:\n",
        "    for i in range(1, num + 1):\n",
        "        factorial *= i\n",
        "    print(f\"{num}! ={factorial}\")\n"
      ],
      "metadata": {
        "colab": {
          "base_uri": "https://localhost:8080/"
        },
        "id": "iKAbn4bmFIHR",
        "outputId": "ca7dff0a-e0dd-497f-efa1-bf5f166820f7"
      },
      "execution_count": 86,
      "outputs": [
        {
          "output_type": "stream",
          "name": "stdout",
          "text": [
            "Enter a number: 10\n",
            "10! =3628800\n"
          ]
        }
      ]
    }
  ]
}