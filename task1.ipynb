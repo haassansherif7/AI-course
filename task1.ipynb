{
  "nbformat": 4,
  "nbformat_minor": 0,
  "metadata": {
    "colab": {
      "provenance": []
    },
    "kernelspec": {
      "name": "python3",
      "display_name": "Python 3"
    },
    "language_info": {
      "name": "python"
    }
  },
  "cells": [
    {
      "cell_type": "code",
      "execution_count": 7,
      "metadata": {
        "colab": {
          "base_uri": "https://localhost:8080/"
        },
        "id": "Zs76IQuIdS_E",
        "outputId": "754d5c06-8cef-4c31-ba0a-5c390ada4073"
      },
      "outputs": [
        {
          "output_type": "stream",
          "name": "stdout",
          "text": [
            "enter high5\n",
            "enter width6\n",
            "area = 15.0\n"
          ]
        }
      ],
      "source": [
        "def area():\n",
        "    x=int(input(\"enter high \"))\n",
        "    y=int(input(\"enter width \"))\n",
        "    z=y/2 * x\n",
        "    print(\"area = \",z)\n",
        "area()"
      ]
    },
    {
      "cell_type": "code",
      "source": [
        "def swap():\n",
        "  x=int(input(\"enter num1 \"))\n",
        "  y=int(input(\"enter num2 \"))\n",
        "  z=y\n",
        "  n=x\n",
        "  print(\"num1 = \",z)\n",
        "  print(\"num2 = \",n)\n",
        "swap()\n",
        "\n"
      ],
      "metadata": {
        "colab": {
          "base_uri": "https://localhost:8080/"
        },
        "id": "UTcrZhK7efUt",
        "outputId": "0183c269-0bdf-4887-b2d3-a7e9005340ff"
      },
      "execution_count": 9,
      "outputs": [
        {
          "output_type": "stream",
          "name": "stdout",
          "text": [
            "enter num1 10\n",
            "enter num2 20\n",
            "num1 =  20\n",
            "num2 =  10\n"
          ]
        }
      ]
    },
    {
      "cell_type": "code",
      "source": [
        "x=float(input(\"enter number of kilometers: \"))\n",
        "miles =x *0.6214\n",
        "print(\"miles = \",miles)"
      ],
      "metadata": {
        "colab": {
          "base_uri": "https://localhost:8080/"
        },
        "id": "IvusttLIfbsS",
        "outputId": "e21cf40c-8cbd-4d6f-9451-88ec31934a6d"
      },
      "execution_count": 10,
      "outputs": [
        {
          "output_type": "stream",
          "name": "stdout",
          "text": [
            "enter number of kilometers: 10\n",
            "miles =  6.2139999999999995\n"
          ]
        }
      ]
    }
  ]
}