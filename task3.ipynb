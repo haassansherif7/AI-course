{
  "nbformat": 4,
  "nbformat_minor": 0,
  "metadata": {
    "colab": {
      "provenance": []
    },
    "kernelspec": {
      "name": "python3",
      "display_name": "Python 3"
    },
    "language_info": {
      "name": "python"
    }
  },
  "cells": [
    {
      "cell_type": "markdown",
      "source": [
        "# 1-Write a Python program that takes two numbers as user input and performs addition on them."
      ],
      "metadata": {
        "id": "XYnnTjnT3Cp0"
      }
    },
    {
      "cell_type": "code",
      "execution_count": null,
      "metadata": {
        "colab": {
          "base_uri": "https://localhost:8080/"
        },
        "id": "Du7te15L2zSV",
        "outputId": "63ab7299-9b1e-4d7c-cbde-2ea6da3b3388"
      },
      "outputs": [
        {
          "output_type": "stream",
          "name": "stdout",
          "text": [
            "enter numberb 1 5\n",
            "enter numberb 2 4.5\n",
            "9.5\n"
          ]
        }
      ],
      "source": [
        "x=float(input(\"enter numberb 1 \"))\n",
        "y=float(input(\"enter numberb 2 \"))\n",
        "z=x+y\n",
        "print(z)"
      ]
    },
    {
      "cell_type": "markdown",
      "source": [
        "# 2-Write a Python program that takes an integer as input and checks if it is even or odd. Print \"Even\" if the number is divisible by 2, otherwise print \"Odd\"."
      ],
      "metadata": {
        "id": "ab43dz4f3gvq"
      }
    },
    {
      "cell_type": "code",
      "source": [
        "x=int(input(\"enter numberb 1 \"))\n",
        "if x %2 ==0:\n",
        "  print(\"number is even\")\n",
        "else:\n",
        "  print(\"number is odd\")"
      ],
      "metadata": {
        "colab": {
          "base_uri": "https://localhost:8080/"
        },
        "id": "ZsQSjRl83kg5",
        "outputId": "2a9b63fb-8c1e-4216-ebce-0e42d076ede1"
      },
      "execution_count": null,
      "outputs": [
        {
          "output_type": "stream",
          "name": "stdout",
          "text": [
            "enter numberb 1 3\n",
            "number is odd\n"
          ]
        }
      ]
    },
    {
      "cell_type": "markdown",
      "source": [
        "# 3-Write a Python program that prints all the even numbers from 1 to 20 using a for loop"
      ],
      "metadata": {
        "id": "QCjiHAlB4HqC"
      }
    },
    {
      "cell_type": "code",
      "source": [
        "for x in range(1,21):\n",
        "  if x %2 ==0:\n",
        "    print(x)"
      ],
      "metadata": {
        "colab": {
          "base_uri": "https://localhost:8080/"
        },
        "id": "9er_S1f04KJj",
        "outputId": "4ebcf703-c665-4899-aeaf-15676bc0708e"
      },
      "execution_count": null,
      "outputs": [
        {
          "output_type": "stream",
          "name": "stdout",
          "text": [
            "2\n",
            "4\n",
            "6\n",
            "8\n",
            "10\n",
            "12\n",
            "14\n",
            "16\n",
            "18\n",
            "20\n"
          ]
        }
      ]
    },
    {
      "cell_type": "markdown",
      "source": [
        "# 4-Write a Python function that takes a string as input and counts the number of vowels (a, e, i, o, u) in the string. The function should return the count"
      ],
      "metadata": {
        "id": "lcu4_Had4Vab"
      }
    },
    {
      "cell_type": "code",
      "source": [
        "def count_vowels():\n",
        "    s = input(\"enter string \")\n",
        "    vowels = \"aeiouAEIOU\"\n",
        "    count = 0\n",
        "\n",
        "    for i in range(len(s)):\n",
        "        if s[i] in vowels:\n",
        "            count += 1\n",
        "\n",
        "    print(\"number of vowels in string =\", count)\n",
        "count_vowels()"
      ],
      "metadata": {
        "colab": {
          "base_uri": "https://localhost:8080/"
        },
        "id": "FeW2PNmB47mq",
        "outputId": "3a1f7b97-47cc-494a-d70f-15d950b32f22"
      },
      "execution_count": null,
      "outputs": [
        {
          "output_type": "stream",
          "name": "stdout",
          "text": [
            "enter string instant\n",
            "number of vowels in string = 2\n"
          ]
        }
      ]
    },
    {
      "cell_type": "markdown",
      "source": [
        "# 5-Write a Python program that creates a list of numbers from 1 to 10. Use a loop to iterate over the list and print each number of power 2."
      ],
      "metadata": {
        "id": "jMw67bfU6AzJ"
      }
    },
    {
      "cell_type": "code",
      "source": [
        "numbers = list(range(1, 11))\n",
        "for num in numbers:\n",
        "    print(f\"{num}^2 = {num ** 2}\")\n"
      ],
      "metadata": {
        "colab": {
          "base_uri": "https://localhost:8080/"
        },
        "id": "NxrKaHDn6FsK",
        "outputId": "66541652-4642-449a-8464-81c74909ac52"
      },
      "execution_count": null,
      "outputs": [
        {
          "output_type": "stream",
          "name": "stdout",
          "text": [
            "1^2 = 1\n",
            "2^2 = 4\n",
            "3^2 = 9\n",
            "4^2 = 16\n",
            "5^2 = 25\n",
            "6^2 = 36\n",
            "7^2 = 49\n",
            "8^2 = 64\n",
            "9^2 = 81\n",
            "10^2 = 100\n"
          ]
        }
      ]
    },
    {
      "cell_type": "markdown",
      "source": [
        "# 6-Write a Python program that calculates the average grade for a student based on their scores in different subjects. The program should include the following steps:\n",
        "1-Create variables to store the student's name, subject names, and corresponding scores. Initialize the variables with sample data.\n",
        "\n",
        "2-Prompt the user to enter the student's name and assign it to the name variable.\n",
        "\n",
        "3-Use a loop to prompt the user to enter the subject names and corresponding scores. Store the subject names in a list and the scores in another list.\n",
        "\n",
        "4-After collecting the scores, calculate the average grade by summing up all the scores and dividing by the total number of subjects.\n",
        "\n",
        "5-Check if the average grade is above a 70, print a congratulatory message. Otherwise, print an encouragement message."
      ],
      "metadata": {
        "id": "jnOclZEr7Eyq"
      }
    },
    {
      "cell_type": "code",
      "source": [
        "student_name = \"\"\n",
        "subjects = []\n",
        "scores = []\n",
        "\n",
        "student_name = input(\"Enter the student's name: \")\n",
        "\n",
        "num_subjects = int(input(\"How many subjects do you want to enter? \"))\n",
        "\n",
        "for i in range(num_subjects):\n",
        "    subject = input(f\"Enter the name of subject {i + 1}: \")\n",
        "    score = float(input(f\"Enter the score for {subject}: \"))\n",
        "\n",
        "    subjects.append(subject)\n",
        "    scores.append(score)\n",
        "\n",
        "average_grade = sum(scores) / len(scores)\n",
        "\n",
        "print(f\"\\nStudent Name: {student_name}\")\n",
        "print(f\"Final Average: {average_grade:.2f}\")\n",
        "\n",
        "if average_grade > 70:\n",
        "    print(\"Congratulations! You passed \")\n",
        "else:\n",
        "    print(\"oops,Keep trying\")\n"
      ],
      "metadata": {
        "colab": {
          "base_uri": "https://localhost:8080/"
        },
        "id": "ImEbzODU7WpI",
        "outputId": "a034916f-f379-4adc-acb1-638e27855900"
      },
      "execution_count": null,
      "outputs": [
        {
          "output_type": "stream",
          "name": "stdout",
          "text": [
            "Enter the student's name: hassan\n",
            "How many subjects do you want to enter? 3\n",
            "Enter the name of subject 1: flluter\n",
            "Enter the score for flluter: 80\n",
            "Enter the name of subject 2: ai\n",
            "Enter the score for ai: 90\n",
            "Enter the name of subject 3: cyber\n",
            "Enter the score for cyber: 95\n",
            "\n",
            "Student Name: hassan\n",
            "Final Average: 88.33\n",
            "Congratulations! You passed \n"
          ]
        }
      ]
    },
    {
      "cell_type": "markdown",
      "source": [
        "# 7-Find Common Elements\n",
        "# Write a Python function that takes two lists as input and returns a new list containing the common elements present in both lists."
      ],
      "metadata": {
        "id": "wkYCesRa9FnU"
      }
    },
    {
      "cell_type": "code",
      "source": [
        "# function\n",
        "def elements(list1, list2):\n",
        "    common = []\n",
        "    for num in list1:\n",
        "        if num in list2 and num not in common:\n",
        "            common.append(num)\n",
        "    return common\n",
        "\n",
        "# Taking input for the first list\n",
        "list1 = []\n",
        "n1 = int(input(\"Enter the number in first list: \"))\n",
        "for i in range(n1):\n",
        "    num = int(input(f\"Enter element {i + 1}: \"))\n",
        "    list1.append(num)\n",
        "\n",
        "# Taking input for the second list\n",
        "list2 = []\n",
        "n2 = int(input(\"Enter the number oin second list: \"))\n",
        "for i in range(n2):\n",
        "    num = int(input(f\"Enter element {i + 1}: \"))\n",
        "    list2.append(num)\n",
        "\n",
        "common_elements = elements(list1, list2)\n",
        "\n",
        "print(\"Common Elements:\", common_elements)\n"
      ],
      "metadata": {
        "colab": {
          "base_uri": "https://localhost:8080/"
        },
        "id": "Xe-YHUic9JR8",
        "outputId": "967f4451-bc11-44ea-fe7d-a219d215842d"
      },
      "execution_count": null,
      "outputs": [
        {
          "output_type": "stream",
          "name": "stdout",
          "text": [
            "Enter the number in first list: 6\n",
            "Enter element 1: 2\n",
            "Enter element 2: 3\n",
            "Enter element 3: 4\n",
            "Enter element 4: 5\n",
            "Enter element 5: 6\n",
            "Enter element 6: 7\n",
            "Enter the number oin second list: 3\n",
            "Enter element 1: 1\n",
            "Enter element 2: 2\n",
            "Enter element 3: 3\n",
            "Common Elements: [2, 3]\n"
          ]
        }
      ]
    },
    {
      "cell_type": "markdown",
      "source": [
        "# 8-Write a Python function that takes a list of numbers and an element to remove from the list."
      ],
      "metadata": {
        "id": "3fTBlHvM-usL"
      }
    },
    {
      "cell_type": "code",
      "source": [
        "def removenum(list1,element):\n",
        "    while element in list1:\n",
        "        list1.remove(element)\n",
        "    return list1\n",
        "\n",
        "numbers = []\n",
        "n = int(input(\"Enter the number of elements in the list: \"))\n",
        "\n",
        "for i in range(n):\n",
        "    num = int(input(f\"Enter element {i + 1}: \"))\n",
        "    numbers.append(num)\n",
        "\n",
        "element = int(input(\"Enter the element to remove: \"))\n",
        "\n",
        "new_list = removenum(numbers, element)\n",
        "\n",
        "print(\"New List:\", new_list)"
      ],
      "metadata": {
        "colab": {
          "base_uri": "https://localhost:8080/"
        },
        "id": "ZoBBNmQ6-yWt",
        "outputId": "edab8f01-d998-491f-c21c-d750cf4e64bc"
      },
      "execution_count": null,
      "outputs": [
        {
          "output_type": "stream",
          "name": "stdout",
          "text": [
            "Enter the number of elements in the list: 6\n",
            "Enter element 1: 1\n",
            "Enter element 2: 10\n",
            "Enter element 3: 100\n",
            "Enter element 4: 1000\n",
            "Enter element 5: 10000\n",
            "Enter element 6: 100000\n",
            "Enter the element to remove: 1000\n",
            "New List: [1, 10, 100, 10000, 100000]\n"
          ]
        }
      ]
    },
    {
      "cell_type": "markdown",
      "source": [
        "# 9-Given 4 numbers A, B, C and D. Print the last 2 digits from their Multiplication.\n",
        "# Example :\n",
        "# the Multiplication of 4 numbers is 5 * 7 * 2 * 4 = 280 so the answer will be the last 2 digits which are 80."
      ],
      "metadata": {
        "id": "8rMWG-0jAHSq"
      }
    },
    {
      "cell_type": "code",
      "source": [
        "A=int(input(\"enter number 1 \"))\n",
        "B=int(input(\"enter number 2 \"))\n",
        "C=int(input(\"enter number 3 \"))\n",
        "D=int(input(\"enter number 4 \"))\n",
        "mul=A*B*C*D\n",
        "last_digits=str(mul)[-2:]\n",
        "print(\"multiplication =\",mul)\n",
        "print(\"last 2 digit =\",last_digits)"
      ],
      "metadata": {
        "colab": {
          "base_uri": "https://localhost:8080/"
        },
        "id": "vPRAA0n1AMLZ",
        "outputId": "0d4eb7a6-629e-4997-a42c-16126b8a062b"
      },
      "execution_count": null,
      "outputs": [
        {
          "output_type": "stream",
          "name": "stdout",
          "text": [
            "enter number 1 5\n",
            "enter number 2 7\n",
            "enter number 3 2\n",
            "enter number 4 4\n",
            "multiplication = 280\n",
            "last 2 digit = 80\n"
          ]
        }
      ]
    },
    {
      "cell_type": "markdown",
      "source": [
        "# 10- Given a number X. Determine if the number is prime or not"
      ],
      "metadata": {
        "id": "wQt_uKj4Bac5"
      }
    },
    {
      "cell_type": "code",
      "source": [
        "X = int(input(\"Enter a number: \"))\n",
        "\n",
        "if X < 1:\n",
        "    print(X, \"is Not a Prime Number.\")\n",
        "else:\n",
        "    for i in range(2, X):\n",
        "        if X % i == 0:\n",
        "            print(X, \"is Not a Prime Number.\")\n",
        "            break\n",
        "    else:\n",
        "        print(X, \"is a Prime Number.\")\n"
      ],
      "metadata": {
        "colab": {
          "base_uri": "https://localhost:8080/"
        },
        "id": "aw7tOKj9BdrR",
        "outputId": "1e9470ee-32d9-47a6-921c-01319bbe6e7d"
      },
      "execution_count": null,
      "outputs": [
        {
          "output_type": "stream",
          "name": "stdout",
          "text": [
            "Enter a number: 6\n",
            "6 is Not a Prime Number.\n"
          ]
        }
      ]
    },
    {
      "cell_type": "markdown",
      "source": [
        "# 11- Given a number N and a list A of N numbers. Determine if the number X exists in array A or not and print its position (0-index)."
      ],
      "metadata": {
        "id": "t6zv_jIQDFGz"
      }
    },
    {
      "cell_type": "code",
      "source": [
        "A = []\n",
        "N = int(input(\"Enter Counter of list: \"))\n",
        "for i in range(N):\n",
        "    num = int(input(f\"Enter element {i + 1}: \"))\n",
        "    A.append(num)\n",
        "x = int(input(\"Enter number to check: \"))\n",
        "\n",
        "if x in A:\n",
        "    print(\"Number exists at index\", A.index(x))\n",
        "else:\n",
        "    print(\"Number does not exist\")\n"
      ],
      "metadata": {
        "colab": {
          "base_uri": "https://localhost:8080/"
        },
        "id": "mW8nN1odDKRr",
        "outputId": "39840779-d909-441e-f349-26caae670ec2"
      },
      "execution_count": null,
      "outputs": [
        {
          "output_type": "stream",
          "name": "stdout",
          "text": [
            "Enter Counter of list: 6\n",
            "Enter element 1: 1\n",
            "Enter element 2: 2\n",
            "Enter element 3: 3\n",
            "Enter element 4: 4\n",
            "Enter element 5: 5\n",
            "Enter element 6: 6\n",
            "Enter number to check: 3\n",
            "Number exists at index 2\n"
          ]
        }
      ]
    },
    {
      "cell_type": "markdown",
      "source": [],
      "metadata": {
        "id": "xRgOmAHke8Uk"
      }
    },
    {
      "cell_type": "markdown",
      "metadata": {
        "id": "f2ec854b"
      },
      "source": [
        "### 12- Given a number N and a list A of N numbers. Determine if the array is lucky or not.\n",
        "\n",
        "#### Note: the array is lucky if the frequency (number of occurrence) of the minimum element is odd."
      ]
    },
    {
      "cell_type": "code",
      "source": [
        "N = int(input(\"Enter Counter of list: \"))\n",
        "A = []\n",
        "\n",
        "for i in range(N):\n",
        "    num = int(input(f\"Enter element {i + 1}: \"))\n",
        "    A.append(num)\n",
        "min=0\n",
        "for i in range(1, N):\n",
        "    if A[i] < A[min]:\n",
        "        min = i\n",
        "\n",
        "min_count = 0\n",
        "for i in range(N):\n",
        "    if A[i] == A[min]:\n",
        "        min_count += 1\n",
        "\n",
        "if min_count % 2 == 0:\n",
        "    print(\"The array is not lucky.\")\n",
        "else:\n",
        "    print(\"The array is lucky.\")"
      ],
      "metadata": {
        "id": "KdTTzioafgy3",
        "colab": {
          "base_uri": "https://localhost:8080/"
        },
        "outputId": "9a210bf2-34c0-4897-dc7f-a8220fefb8ca"
      },
      "execution_count": 10,
      "outputs": [
        {
          "output_type": "stream",
          "name": "stdout",
          "text": [
            "Enter Counter of list: 10\n",
            "Enter element 1: 0\n",
            "Enter element 2: 1\n",
            "Enter element 3: 0\n",
            "Enter element 4: 2\n",
            "Enter element 5: 0\n",
            "Enter element 6: 3\n",
            "Enter element 7: 0\n",
            "Enter element 8: 4\n",
            "Enter element 9: 0\n",
            "Enter element 10: 5\n",
            "The array is lucky.\n"
          ]
        }
      ]
    },
    {
      "cell_type": "markdown",
      "source": [
        "# 13-Given a number N and a list A of N numbers. Print the array after doing the following operations:\n",
        "# Find minimum number in these numbers.\n",
        "# Find maximum number in these numbers.\n",
        "# Swap minimum number with maximum number."
      ],
      "metadata": {
        "id": "Dy4gKuvifhB4"
      }
    },
    {
      "cell_type": "code",
      "source": [
        "N = int(input(\"Enter Counter of list: \"))\n",
        "A = []\n",
        "\n",
        "for i in range(N):\n",
        "    num = int(input(f\"Enter element {i + 1}: \"))\n",
        "    A.append(num)\n",
        "\n",
        "min = 0\n",
        "max = 0\n",
        "\n",
        "for i in range(1, N):\n",
        "    if A[i] < A[min]:\n",
        "        min = i\n",
        "    if A[i] > A[max]:\n",
        "        max = i\n",
        "\n",
        "print(\"Array:\", A)\n",
        "print(\"Minimum number:\", A[min])\n",
        "print(\"Maximum number:\", A[max])\n",
        "\n",
        "temp = A[min]\n",
        "A[min] = A[max]\n",
        "A[max] = temp\n",
        "\n",
        "print(\"Array after swapping min and max:\", A)\n"
      ],
      "metadata": {
        "colab": {
          "base_uri": "https://localhost:8080/"
        },
        "id": "BGhAyecvfmVP",
        "outputId": "4f837847-eda3-4a94-8b6e-c88ce04cf9f4"
      },
      "execution_count": 11,
      "outputs": [
        {
          "output_type": "stream",
          "name": "stdout",
          "text": [
            "Enter Counter of list: 6\n",
            "Enter element 1: 1\n",
            "Enter element 2: 3\n",
            "Enter element 3: 6\n",
            "Enter element 4: 8\n",
            "Enter element 5: 10\n",
            "Enter element 6: 2\n",
            "Array: [1, 3, 6, 8, 10, 2]\n",
            "Minimum number: 1\n",
            "Maximum number: 10\n",
            "Array after swapping min and max: [10, 3, 6, 8, 1, 2]\n"
          ]
        }
      ]
    },
    {
      "cell_type": "markdown",
      "source": [
        "# 14-Given a number N and an array A of N numbers. Print the lowest number and its position.\n",
        "# Note: if there are more than one answer print first one's position."
      ],
      "metadata": {
        "id": "tyEG4KxOh6vw"
      }
    },
    {
      "cell_type": "code",
      "source": [
        "N = int(input(\"Enter Counter of list: \"))\n",
        "A = []\n",
        "\n",
        "for i in range(N):\n",
        "    num = int(input(f\"Enter element {i + 1}: \"))\n",
        "    A.append(num)\n",
        "\n",
        "min = 0\n",
        "\n",
        "for i in range(1, N):\n",
        "    if A[i] < A[min]:\n",
        "        min = i\n",
        "\n",
        "print(\"Lowest number:\", A[min])\n",
        "print(\"Position of lowest number:\", min)"
      ],
      "metadata": {
        "colab": {
          "base_uri": "https://localhost:8080/"
        },
        "id": "p1MZhSDuh-i_",
        "outputId": "276fd61c-bc32-4ab7-c59b-8e939c58c8e0"
      },
      "execution_count": null,
      "outputs": [
        {
          "output_type": "stream",
          "name": "stdout",
          "text": [
            "Enter Counter of list: 6\n",
            "Enter element 1: 0\n",
            "Enter element 2: 2\n",
            "Enter element 3: 0\n",
            "Enter element 4: 6\n",
            "Enter element 5: 0\n",
            "Enter element 6: 8\n",
            "Lowest number: 0\n",
            "Position of lowest number: 0\n"
          ]
        }
      ]
    },
    {
      "cell_type": "markdown",
      "source": [
        "# 15-Given a number N and an array A of N numbers. Print the numbers after sorting them"
      ],
      "metadata": {
        "id": "BEHyn87jireg"
      }
    },
    {
      "cell_type": "code",
      "source": [
        "N = int(input(\"Enter Counter of list: \"))\n",
        "A = []\n",
        "\n",
        "for i in range(N):\n",
        "    num = int(input(f\"Enter element {i + 1}: \"))\n",
        "    A.append(num)\n",
        "\n",
        "for i in range(N - 1):\n",
        "    for j in range(N - 1 - i):\n",
        "        if A[j] > A[j + 1]:\n",
        "            A[j], A[j + 1] = A[j + 1], A[j]  # Swap if out of order\n",
        "\n",
        "print(\"Sorted array:\", *A)"
      ],
      "metadata": {
        "colab": {
          "base_uri": "https://localhost:8080/"
        },
        "id": "4eGot0xLiuPw",
        "outputId": "1c909f94-2bbf-4831-8144-1e50b4230e50"
      },
      "execution_count": null,
      "outputs": [
        {
          "output_type": "stream",
          "name": "stdout",
          "text": [
            "Enter Counter of list: 6\n",
            "Enter element 1: 3\n",
            "Enter element 2: 0\n",
            "Enter element 3: 1\n",
            "Enter element 4: 2\n",
            "Enter element 5: 5\n",
            "Enter element 6: 4\n",
            "Sorted array: 0 1 2 3 4 5\n"
          ]
        }
      ]
    },
    {
      "cell_type": "markdown",
      "source": [
        "# 16- Write a Python program to remove spaces from a given string"
      ],
      "metadata": {
        "id": "T1qhAWsijIBI"
      }
    },
    {
      "cell_type": "code",
      "source": [
        "X=input(\"enter string \")\n",
        "new_string=X.replace(\" \",\"\")\n",
        "print(\"String without spaces:\", new_string)\n",
        "\n",
        "print(\"**************************\")\n",
        "y = input(\"enter a string \")\n",
        "new_y = \"\"\n",
        "\n",
        "for i in y:\n",
        "    if i != \" \":\n",
        "        new_y += i\n",
        "\n",
        "print(\"String without spaces:\", new_y)\n"
      ],
      "metadata": {
        "colab": {
          "base_uri": "https://localhost:8080/"
        },
        "id": "GkPIcrPtjKZ4",
        "outputId": "0c928b2d-49ad-45b2-c507-620c222bf12d"
      },
      "execution_count": null,
      "outputs": [
        {
          "output_type": "stream",
          "name": "stdout",
          "text": [
            "enter string ha ss an\n",
            "String without spaces: hassan\n",
            "**************************\n",
            "enter a stringha ss an\n",
            "String without spaces: hassan\n"
          ]
        }
      ]
    },
    {
      "cell_type": "markdown",
      "source": [
        "### 17-write a Python program to swap first and last element of any list."
      ],
      "metadata": {
        "id": "Ktu7Y4h7kISB"
      }
    },
    {
      "cell_type": "code",
      "source": [
        "N = int(input(\"Enter Counter of list: \"))\n",
        "A = []\n",
        "for i in range(N):\n",
        "    num = int(input(f\"Enter element {i + 1}: \"))\n",
        "    A.append(num)\n",
        "print(\"list elements\",A)\n",
        "temp=A[0]\n",
        "A[0]=A[N-1]\n",
        "A[N-1]=temp\n",
        "print(\"swapped list\",A)\n"
      ],
      "metadata": {
        "colab": {
          "base_uri": "https://localhost:8080/"
        },
        "id": "Yz5CCgzJkK1o",
        "outputId": "bbdf2fc9-527d-4b7d-8325-1d27c1727b93"
      },
      "execution_count": null,
      "outputs": [
        {
          "output_type": "stream",
          "name": "stdout",
          "text": [
            "Enter Counter of list: 7\n",
            "Enter element 1: 5\n",
            "Enter element 2: 67\n",
            "Enter element 3: 7\n",
            "Enter element 4: 3\n",
            "Enter element 5: 4\n",
            "Enter element 6: 6\n",
            "Enter element 7: 78\n",
            "list elements [5, 67, 7, 3, 4, 6, 78]\n",
            "swapped list [78, 67, 7, 3, 4, 6, 5]\n"
          ]
        }
      ]
    },
    {
      "cell_type": "markdown",
      "source": [
        "# **Write a Python Program to Find HCF.**\n",
        "## Highest Common Factor(HCF): HCF, or Highest Common Factor, is the largest positive integer that divides two or more numbers without leaving a remainder. Formula: For two numbers a and b, the HCF can be found using the formula:\n",
        "\n",
        "** HCF(𝑎, 𝑏) = GCD(𝑎, 𝑏)**\n",
        "For more than two numbers, you can find the HCF by taking the GCD of pairs of numbers at a time until you reach the last pair.\n",
        "\n",
        "# **Note: GCD stands for Greatest Common Divisor, use function.**\n"
      ],
      "metadata": {
        "id": "eUccURkEkz4Z"
      }
    },
    {
      "cell_type": "code",
      "source": [
        "N = int(input(\"Enter the number of elements: \"))\n",
        "A = []\n",
        "\n",
        "for i in range(N):\n",
        "    num = int(input(f\"Enter number {i + 1}: \"))\n",
        "    A.append(num)\n",
        "\n",
        "hcf = A[0]\n",
        "\n",
        "for i in range(1, N):\n",
        "    a = hcf\n",
        "    b = A[i]\n",
        "\n",
        "\n",
        "    while b != 0:\n",
        "        remainder = a % b\n",
        "        a = b\n",
        "        b = remainder\n",
        "\n",
        "    hcf = a\n",
        "\n",
        "print(\"HCF Of List numbers:\", hcf)\n"
      ],
      "metadata": {
        "id": "dTIdn1BMk9Up",
        "colab": {
          "base_uri": "https://localhost:8080/"
        },
        "outputId": "151f4b0b-b40d-4467-bcb3-5c953b640282"
      },
      "execution_count": 16,
      "outputs": [
        {
          "output_type": "stream",
          "name": "stdout",
          "text": [
            "Enter the number of elements: 2\n",
            "Enter number 1: 48\n",
            "Enter number 2: 60\n",
            "HCF Of List numbers: 12\n"
          ]
        }
      ]
    }
  ]
}